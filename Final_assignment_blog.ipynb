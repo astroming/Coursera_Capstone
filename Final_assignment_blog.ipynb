{
 "cells": [
  {
   "cell_type": "markdown",
   "metadata": {},
   "source": [
    "The Bureau of Meteorology is Australia's national weather, climate and water agency. "
   ]
  },
  {
   "cell_type": "markdown",
   "metadata": {},
   "source": [
    "# Introduction\n",
    "\n",
    "Sydney, located on Australia's east coast, is the most populous city in Australia. Sydney has an advanced market economy with strengths in finance, education and tourism. There is a significant concentration of multinational corporations in this city. For people who are going to travel or work but have never been in Sydney, it is necessary to learn about some basic information about this city such as housing price, restaurants, schools and climate.\n",
    "\n",
    "This project uses data from Foursquare as well as the Bureau of Meteorology and attempts to\n",
    "1. investigate the distribution of Asia restaurants and Italian restaurants in Sydney.\n",
    "2. use k-means method to cluster restaurants based on their overall rating and the number of tips.\n",
    "3. explore the climate of Sydney with the past records."
   ]
  },
  {
   "cell_type": "markdown",
   "metadata": {},
   "source": [
    "# Data\n",
    "The data used for this project are obtained from Foursquare and from the Bureau of Meteorology which is Australia's national weather, climate and water agency (http://www.bom.gov.au). \n",
    "\n",
    "Foursquare provide rich information aobut Sydney. In this project, I set the parameters in the FourSquare API as following:\n",
    "1. the geograpical coordinate of Sydney: latitude = -33.8632, longitude = 151.2032\n",
    "2. the search key words are Asia restaurants and Italian restaurants respectively\n",
    "3. the radius centred around the geograpical coordinate of Sydney is 10000\n",
    "4. the limit of number of results returned by Foursquare API is 50\n",
    "\n",
    "I use the location information of restaurants in the data and show them on the map. I also use the rating and tips information in this data to cluster restaurants with machine learning. \n",
    "\n",
    "The Bureau of Meteorology has the most comprehensive weather record in Australia such as temperature, rainfall, wind gust speed, and solar exposure, etc. I only download and use the dataset of monthly statistics for Sydney climate. The dataset is a csv file."
   ]
  },
  {
   "cell_type": "markdown",
   "metadata": {},
   "source": [
    "# Methodology and Results\n",
    "Data obtained from Foursquare is a json file and I first transform it into pandas dataframe with json_normalize in pandas library. Then I keep only columns that include venue id, and anything that is associated with location. \n",
    "I also extract the rating and tips information with venue id from Foursquare and join them into the dataframe. \n",
    "\n",
    "I use two key words: Asia restaurants and Italian restaurants and show the results on the map. As shown in the figure , the red circles mark the Asia restaurants and the blue circles mark Italian restaurants.\n",
    "\n",
    "Customers would like to check a restaurant's rating and tips by other customers before they go to. Base on this fact and the dataset. I use k-meands method to cluster restaurants into 4 clusters. \n",
    "\n",
    "cluster 0: Art Gallery of NSW Restaurant, The Gantry Restaurant & Bar, Condor Japanese Noodle Restaurant, Olivo Restaurant, North Ocean Chinese Restaurant, etc.\n",
    "cluster 1: The Restaurant Pendolino, Zilver Restaurant, NaruOne Korean Restaurant, The Eight Modern Chinese Restaurant, Superbowl Chinese Restaurant, etc.\n",
    "cluster 2: Palace Chinese Restaurant, Blue Fish Seafood Restaurant, Sakuratei Japanese Restaurant (\\u685c\\u4ead), Chinese Noodle Restaurant, etc.\n",
    "\n",
    "cluster 3: Sydney Madang Restaurant, Marigold Restaurant bae (Marigold Restaurant), Chinese Noodle Restaurant, Nick's Seafood Restaurant, etc.\n",
    "\n",
    "As shown in the figure , circles with different color means restaurants with different cluster label.\n",
    "\n",
    "I also explore the Sydney's climate. The dataset obtained from the Bureau of Meteorology is a csv file. I can easily analysis them by pandas. Figure shows that the mean maximum and minimum temperature (Degrees C) for years from 1859 to 2018. Unlike the countries of the Northern Hemisphere, Sydney‘ winter is in July and its temperature is around 10C, meaning there is no snow in Sydney. The mean temperature in summer is also not higher than 27C. \n",
    "\n",
    "The mean rainfall in Sydney for years 1858 to 2019 is shown in figure . We can see that Sydney's rainy season is from February to June."
   ]
  },
  {
   "cell_type": "markdown",
   "metadata": {},
   "source": [
    "# Discussion\n",
    "We can see in figure that Asia restaurants has different ditribution compared with Italian restaurants. Asia restaurants are mainly lovated in the center areas and rarely opened in the suburbs. Howerver, Italian restaurants are evenly distributed throughout Sydney. The free version of FourSquare api has aggressive rate limit for explore. The data used for machine learning analysis are a small set. Otherwise we can do more analysis using various machine learning techniques. The climate investigation is simple but would be very helpful for people.\n"
   ]
  },
  {
   "cell_type": "markdown",
   "metadata": {},
   "source": [
    "# Conclusion\n",
    "In this project, we investigate Sydney's restaurants and climate. Thanks to the free data provided by Foursquare and the Bureau of Meteorology, I can explore the distribution of different restaurants, successfully cluster them into 4 clusters. Furthermore, this project gives two climate characteristics, namely monthly statistics in temperature and rainfall which people are most concerned about. "
   ]
  },
  {
   "cell_type": "code",
   "execution_count": null,
   "metadata": {},
   "outputs": [],
   "source": []
  }
 ],
 "metadata": {
  "kernelspec": {
   "display_name": "Python 2",
   "language": "python",
   "name": "python2"
  },
  "language_info": {
   "codemirror_mode": {
    "name": "ipython",
    "version": 2
   },
   "file_extension": ".py",
   "mimetype": "text/x-python",
   "name": "python",
   "nbconvert_exporter": "python",
   "pygments_lexer": "ipython2",
   "version": "2.7.15"
  }
 },
 "nbformat": 4,
 "nbformat_minor": 2
}
